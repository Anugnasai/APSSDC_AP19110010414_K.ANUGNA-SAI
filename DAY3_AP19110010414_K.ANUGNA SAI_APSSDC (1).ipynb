{
 "cells": [
  {
   "cell_type": "markdown",
   "metadata": {},
   "source": [
    "### Task -1\n",
    "* Take last 3 values of roll number(AP19110010016)\n",
    "If value is startswith \"01\" --> 'Cse Dept'\n",
    "elif value is startwith \"11\" --> 'It Dept'\n",
    "elif values is startswith \"21\" --> 'ECE dept'\n",
    "else not an SRM student\n"
   ]
  },
  {
   "cell_type": "code",
   "execution_count": 2,
   "metadata": {},
   "outputs": [
    {
     "name": "stdout",
     "output_type": "stream",
     "text": [
      "Enter Your Roll No: AP19110010414\n",
      "You are not an SRM student.\n"
     ]
    }
   ],
   "source": [
    "str1=input(\"Enter Your Roll No: \")\n",
    "\n",
    "if str1[-3:].startswith(\"01\"):\n",
    "    print(\"You belong to CSE Dept.\")\n",
    "elif str1[-3:].startswith(\"11\"):\n",
    "    print(\"You belong to IT Dept.\")\n",
    "elif str1[-3:].startswith(\"21\"):\n",
    "    print(\"You belong to ECE Dept.\")\n",
    "else:\n",
    "    print(\"You are not an SRM student.\")"
   ]
  },
  {
   "cell_type": "markdown",
   "metadata": {},
   "source": []
  },
  {
   "cell_type": "code",
   "execution_count": null,
   "metadata": {},
   "outputs": [],
   "source": []
  },
  {
   "cell_type": "code",
   "execution_count": null,
   "metadata": {},
   "outputs": [],
   "source": []
  }
 ],
 "metadata": {
  "kernelspec": {
   "display_name": "Python 3",
   "language": "python",
   "name": "python3"
  },
  "language_info": {
   "codemirror_mode": {
    "name": "ipython",
    "version": 3
   },
   "file_extension": ".py",
   "mimetype": "text/x-python",
   "name": "python",
   "nbconvert_exporter": "python",
   "pygments_lexer": "ipython3",
   "version": "3.7.3"
  }
 },
 "nbformat": 4,
 "nbformat_minor": 2
}
