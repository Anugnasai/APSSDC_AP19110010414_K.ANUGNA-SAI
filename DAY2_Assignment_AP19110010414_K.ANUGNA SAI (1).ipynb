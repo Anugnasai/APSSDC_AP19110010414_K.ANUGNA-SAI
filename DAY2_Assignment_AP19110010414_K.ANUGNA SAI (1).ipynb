{
 "cells": [
  {
   "cell_type": "markdown",
   "metadata": {},
   "source": [
    "*  1.Write a program to check whether the user eligible for vote or not? "
   ]
  },
  {
   "cell_type": "code",
   "execution_count": 3,
   "metadata": {},
   "outputs": [
    {
     "name": "stdout",
     "output_type": "stream",
     "text": [
      "enter your age15\n",
      "You are not eligible for vote\n"
     ]
    }
   ],
   "source": [
    "age=int(input(\"enter your age\"))\n",
    "if(age>18):\n",
    "    print(\"You are eligible for vote\")\n",
    "else:\n",
    "    print(\"You are not eligible for vote\")"
   ]
  },
  {
   "cell_type": "markdown",
   "metadata": {},
   "source": [
    "* 2.Check the given number is positive or negative"
   ]
  },
  {
   "cell_type": "code",
   "execution_count": 4,
   "metadata": {},
   "outputs": [
    {
     "name": "stdout",
     "output_type": "stream",
     "text": [
      "enter  number :- 5\n",
      "5 - It is a positive number\n"
     ]
    }
   ],
   "source": [
    "i=int(input(\"enter  number :- \"))\n",
    "if i>0:\n",
    "    print(i,\"-\",\"It is a positive number\")\n",
    "else:\n",
    "    print(i,\"-\",\"It is a negative number\")"
   ]
  },
  {
   "cell_type": "markdown",
   "metadata": {},
   "source": [
    "* 3.check the given number is even or odd if it's even check which is divisible by 4 or not\n"
   ]
  },
  {
   "cell_type": "code",
   "execution_count": 8,
   "metadata": {},
   "outputs": [
    {
     "name": "stdout",
     "output_type": "stream",
     "text": [
      "enter  number :- 12\n",
      "it is even\n",
      "it is even and also divisible by 4 \n"
     ]
    }
   ],
   "source": [
    "num=int(input(\"enter  number :- \"))\n",
    "if(num%2==0):\n",
    "    print(\"It is a even number\")\n",
    "    if num%4==0 :\n",
    "    \n",
    "        print(\"it is even and also divisible by 4 \")\n",
    "    else:\n",
    "        print(\"it is not divisble by 4\")\n",
    "else:\n",
    "    print(\"odd\")"
   ]
  },
  {
   "cell_type": "markdown",
   "metadata": {},
   "source": [
    "*4.write a program to print student grade based on persentage like Distinction,pass or fail\n"
   ]
  },
  {
   "cell_type": "code",
   "execution_count": 9,
   "metadata": {},
   "outputs": [
    {
     "name": "stdout",
     "output_type": "stream",
     "text": [
      "Enter Number of Subjects: 5\n",
      "Enter Marks of subject 1: 30\n",
      "Enter Marks of subject 2: 0\n",
      "Enter Marks of subject 3: 90\n",
      "Enter Marks of subject 4: 100\n",
      "Enter Marks of subject 5: 100\n",
      "64.0\n",
      "You passed with 'D' Grade.\n"
     ]
    }
   ],
   "source": [
    "subjects=int(input(\"Enter Number of Subjects: \"))\n",
    "sum1=0\n",
    "\n",
    "for i in range(subjects):\n",
    "    s=int(input(\"Enter Marks of subject {}: \".format(i+1)))\n",
    "    sum1=sum1+s\n",
    "\n",
    "per=(sum1/(subjects*100))*100\n",
    "print(per)\n",
    "\n",
    "if per>90.0:\n",
    "    print(\"You passed with Distinction\")\n",
    "elif per>80.0 and per<90.0:\n",
    "    print(\"You passed with 'B' Grade.\")\n",
    "elif per>70.0 and per<80.0:\n",
    "    print(\"You passed with 'C' Grade.\")\n",
    "elif per>60.0 and per<70.0:\n",
    "    print(\"You passed with 'D' Grade.\")\n",
    "elif per>45.0 and per<60.0:\n",
    "    print(\"You just passed with 'E' Grade.\")\n",
    "else:\n",
    "    print(\"You Failed.\")"
   ]
  },
  {
   "cell_type": "markdown",
   "metadata": {},
   "source": [
    "* 5.Check the given year is Leap or not"
   ]
  },
  {
   "cell_type": "code",
   "execution_count": 10,
   "metadata": {},
   "outputs": [
    {
     "name": "stdout",
     "output_type": "stream",
     "text": [
      "Enter a year: 2020\n",
      "2020 is a leap year\n"
     ]
    }
   ],
   "source": [
    "year = int(input(\"Enter a year: \"))  \n",
    "if (year % 4) == 0: \n",
    "    \n",
    "    if (year % 100) == 0:  \n",
    "        if (year % 400) == 0:  \n",
    "            print(\"{0} is a leap year\".format(year))  \n",
    "        else:  \n",
    "            print(\"{0} is not a leap year\".format(year))  \n",
    "    else:  \n",
    "        print(\"{0} is a leap year\".format(year))  \n",
    "else:  \n",
    "    print(\"{0} is not a leap year\".format(year))  \n"
   ]
  },
  {
   "cell_type": "code",
   "execution_count": null,
   "metadata": {},
   "outputs": [],
   "source": []
  }
 ],
 "metadata": {
  "kernelspec": {
   "display_name": "Python 3",
   "language": "python",
   "name": "python3"
  },
  "language_info": {
   "codemirror_mode": {
    "name": "ipython",
    "version": 3
   },
   "file_extension": ".py",
   "mimetype": "text/x-python",
   "name": "python",
   "nbconvert_exporter": "python",
   "pygments_lexer": "ipython3",
   "version": "3.7.3"
  }
 },
 "nbformat": 4,
 "nbformat_minor": 2
}
