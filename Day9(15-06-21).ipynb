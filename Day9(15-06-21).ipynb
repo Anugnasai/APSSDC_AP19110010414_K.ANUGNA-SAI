{
 "cells": [
  {
   "cell_type": "markdown",
   "metadata": {},
   "source": [
    "Create a function for finding leap years within the given range\n",
    "Create a function for getting armstrong number in given range\n",
    "Create a function for getting prime numbers within a given range\n",
    "Create a function for finding the count of elements in a given string \"Srm University\"\n"
   ]
  },
  {
   "cell_type": "code",
   "execution_count": 2,
   "metadata": {},
   "outputs": [
    {
     "name": "stdout",
     "output_type": "stream",
     "text": [
      "1600\t1604\t1608\t1612\t1616\t1620\t1624\t1628\t1632\t1636\t1640\t1644\t1648\t1652\t1656\t1660\t1664\t1668\t1672\t1676\t1680\t1684\t1688\t1692\t1696\t1704\t1708\t1712\t1716\t1720\t1724\t1728\t1732\t1736\t1740\t1744\t1748\t1752\t1756\t1760\t1764\t1768\t1772\t1776\t1780\t1784\t1788\t1792\t1796\t1804\t1808\t1812\t1816\t1820\t1824\t1828\t1832\t1836\t1840\t1844\t1848\t1852\t1856\t1860\t1864\t1868\t1872\t1876\t1880\t1884\t1888\t1892\t1896\t1904\t1908\t1912\t1916\t1920\t1924\t1928\t1932\t1936\t1940\t1944\t1948\t1952\t1956\t1960\t1964\t1968\t1972\t1976\t1980\t1984\t1988\t1992\t1996\t2000\t2004\t2008\t2012\t2016\t2020\t"
     ]
    }
   ],
   "source": [
    "# Program-1\n",
    "\n",
    "def leap_year(start,end):\n",
    "    for i in range(start,end):\n",
    "        if (i % 4 == 0 and i % 100 != 0) or (i % 400 == 0):\n",
    "            print(i, end = '\\t')\n",
    "leap_year(1600,2021)\n"
   ]
  },
  {
   "cell_type": "code",
   "execution_count": 4,
   "metadata": {},
   "outputs": [
    {
     "name": "stdout",
     "output_type": "stream",
     "text": [
      "153\n",
      "370\n",
      "371\n",
      "407\n"
     ]
    }
   ],
   "source": [
    "# Program-2\n",
    "\n",
    "def armstrong(start,end):\n",
    "    for num in range(start,end + 1):  \n",
    "        sum = 0  \n",
    "        temp = num  \n",
    "        while temp > 0:  \n",
    "            digit = temp % 10  \n",
    "            sum += digit ** 3  \n",
    "            temp //= 10  \n",
    "        if num == sum:  \n",
    "            print(num) \n",
    "            \n",
    "armstrong(50,600)\n"
   ]
  },
  {
   "cell_type": "code",
   "execution_count": 5,
   "metadata": {},
   "outputs": [
    {
     "name": "stdout",
     "output_type": "stream",
     "text": [
      "127\n",
      "131\n",
      "137\n",
      "139\n",
      "149\n",
      "151\n",
      "157\n",
      "163\n",
      "167\n",
      "173\n",
      "179\n",
      "181\n",
      "191\n",
      "193\n",
      "197\n",
      "199\n"
     ]
    }
   ],
   "source": [
    "# Program-3\n",
    "\n",
    "def prime(start,end):\n",
    "    def prime1 (n):\n",
    "        count=0\n",
    "        for i in range(1,n+1):\n",
    "            if n%i==0:\n",
    "                count+=1\n",
    "        if count==2:\n",
    "            print(n)\n",
    "    for i in range(start,end+1):\n",
    "        prime1(i)\n",
    "prime(120,200)\n"
   ]
  },
  {
   "cell_type": "code",
   "execution_count": null,
   "metadata": {},
   "outputs": [],
   "source": [
    "# Program-4\n",
    "\n",
    "def count_string(s):\n",
    "    res={}\n",
    "    for i in s:\n",
    "        if i in res:\n",
    "            res[i]+=1\n",
    "        else:\n",
    "            res[i]=1\n",
    "    return res\n",
    "    \n",
    "\n",
    "print(count_string(\"Srm University\"))\n"
   ]
  }
 ],
 "metadata": {
  "kernelspec": {
   "display_name": "Python 3",
   "language": "python",
   "name": "python3"
  },
  "language_info": {
   "codemirror_mode": {
    "name": "ipython",
    "version": 3
   },
   "file_extension": ".py",
   "mimetype": "text/x-python",
   "name": "python",
   "nbconvert_exporter": "python",
   "pygments_lexer": "ipython3",
   "version": "3.7.3"
  }
 },
 "nbformat": 4,
 "nbformat_minor": 2
}
